{
  "nbformat": 4,
  "nbformat_minor": 0,
  "metadata": {
    "colab": {
      "name": "Predicting Deep Fashion Attributes .ipynb",
      "provenance": [],
      "collapsed_sections": [
        "36x81_DTO9_p",
        "JQsO7BfcUHB4",
        "z2axmTT3iBbF",
        "wmlIwhaBh8ce",
        "BWdIh1F9SV4L",
        "pYlo8Vxrfuuy",
        "i0k3xubxf1J9"
      ]
    },
    "kernelspec": {
      "name": "python3",
      "display_name": "Python 3"
    },
    "language_info": {
      "name": "python"
    },
    "accelerator": "GPU"
  },
  "cells": [
    {
      "cell_type": "code",
      "metadata": {
        "colab": {
          "base_uri": "https://localhost:8080/"
        },
        "id": "hZRakB2Ajmd7",
        "outputId": "f2629d7a-2b00-4472-a7c9-368d9e524935"
      },
      "source": [
        "!sudo pip install pillow"
      ],
      "execution_count": 274,
      "outputs": [
        {
          "output_type": "stream",
          "text": [
            "Requirement already satisfied: pillow in /usr/local/lib/python3.7/dist-packages (7.1.2)\n"
          ],
          "name": "stdout"
        }
      ]
    },
    {
      "cell_type": "markdown",
      "metadata": {
        "id": "ZoaDSJzGh1-h"
      },
      "source": [
        "#Predicting Deep Fashion Attributes - A Task "
      ]
    },
    {
      "cell_type": "markdown",
      "metadata": {
        "id": "36x81_DTO9_p"
      },
      "source": [
        "## Task Summary - "
      ]
    },
    {
      "cell_type": "markdown",
      "metadata": {
        "id": "HL5ADn5LLqO7"
      },
      "source": [
        "Hello! \n",
        "This notebook uses the dataset provided by FlixStock, as per their deep learning assessement. The dataset consisted of a csv file having the images path and their attributes. It was accompanied by an images folder consisting of all the images.\n",
        "The following approach was followed in order to train and predict on the given images\n",
        "\n",
        "\n",
        "1.   The \"attributes.csv\" was read as a dataframe in Pandas\n",
        "2.   There were some duplicated image names in the dataframe, which did not exist in the images folder. The first row was kept, and the subsequent ones were removed.\n",
        "3.   The csv file was inspected for \"N/A\" files and decision was taken by me to impute the \"N/A\" files as \"-1\", treating it as a category.\n",
        "4.   The distributuion of the multiple lables in different classes were checked. The problem was identified to be a rather skewed multi-class multi-label classification.\n",
        "5.   One hot encoding was done for all the classes and all the labels by using \"get_dummies\" of Pandas.\n",
        "6.   The Folder was inspected of a \"Thumb.db\" file, it was manually removed.\n",
        "7.   The data was split into training/testing and validation datasets by creating a random mask in Pandas.\n",
        "8.   The dataset was created by tweaking an example in PyTorch's official documentation ([Dataset Creation](https://pytorch.org/tutorials/beginner/basics/data_tutorial.html)). \n",
        "  *   Multiple Transforms were used for all three types of datasets, including random flip, vertical flip, and the images were resized to 512,512 (even though experiments were performed with 256,256 also).\n",
        "  *   The labels and images were returned as tensors, outputs and their shapes were checked with all the three dataloaders. The batch size was taken as 16 for the training and validation dataset. No batch size was taken for the test. \n",
        "9.    Transfer Learning was the approach chosen. Two models were primarily experimented with (after freezing the models and using them just as feature extractors) - \n",
        "  *   Resnet18 (Following this tutorial -> [Transfer Learning](https://pytorch.org/tutorials/beginner/transfer_learning_tutorial.html#further-learning))\n",
        "  *   Resnext50_32x4d - Which tends to perform slightly better.\n",
        "10.   The training loop was inspired from the above tutorial, and was tweaked according to our needs. The following changes were made- \n",
        "  *   Since the problem was a multiclass, multilabel one, the outputs of the frozen layer were sent to a sigmoid function, and after that BCE loss was used to score the loss. Inspiration for the tweak arose from the following link ->[Stats Exchange](https://stats.stackexchange.com/questions/207794/what-loss-function-for-multi-class-multi-label-classification-tasks-in-neural-n)\n",
        "  *   A fully connected layer was provided with 21 (total dummies) outputs, which provided the predicted values. \n",
        "  *   Three metrics were used primarily-> loss, accuracy and f1 score.\n",
        "  *   Adam and SGD were both experimented with, leading to the selection of Adam because it gave better performance.    \n",
        "11.   The Model was finally visualized on the Test Dataset, and on visual inspection it showed decent results."
      ]
    },
    {
      "cell_type": "markdown",
      "metadata": {
        "id": "JQsO7BfcUHB4"
      },
      "source": [
        "## Summary of Experiments"
      ]
    },
    {
      "cell_type": "markdown",
      "metadata": {
        "id": "EsGz0OKcUKuB"
      },
      "source": [
        "\n",
        "**Experiment 1 - (Best So Far)**\n",
        "* Model - resnext50_32x4d\n",
        "* Input Image Size - 512 x 512\n",
        "* Training Epochs - 25\n",
        "* Normalization Parameters - [0.485, 0.456, 0.406]\n",
        "* Optimizer Type - Adam (lr = 0.001)\n",
        "\n",
        "Results - \n",
        "* Best Training Accuracy = 0.9106\n",
        "* Best Validation Acuracy = 0.8818\n",
        "* Best Validation F1 Score = 0.5984\n",
        "* Maximum Time Taken to train\n",
        "\n",
        "<===================================================>\n",
        "\n",
        "Experiment 2 -\n",
        "* Model - resnext50_32x4d\n",
        "* Input Image Size - 256 x 256\n",
        "* Training Epochs - 10\n",
        "* Normalization Parameters - [0.485, 0.456, 0.406]\n",
        "* Optimizer Type - Adam (lr = 0.001)\n",
        "\n",
        "Results - \n",
        "* Best Training Accuracy = 0.9177\n",
        "* Best Validation Acuracy = 0.8447\n",
        "* Best Validation F1 Score = 0.6002\n",
        "\n",
        "<===================================================>\n",
        "\n",
        "\n",
        "Experiment 3 - \n",
        "* Model - resnet18\n",
        "* Input Image Size - 256 x 256\n",
        "* Training Epochs - 10\n",
        "* Normalization Parameters - [0.485, 0.456, 0.406]\n",
        "* Optimizer Type - Adam (lr = 0.001)\n",
        "\n",
        "Results - \n",
        "* Best Training Accuracy = 0.9119\n",
        "* Best Validation Acuracy = 0.8588\n",
        "* Best Validation F1 Score = 0.6069\n",
        "\n",
        "<===================================================>\n",
        "\n",
        "\n",
        "\n",
        "Experiment 4 - \n",
        "* Model - resnet18\n",
        "* Input Image Size - 512 x 512\n",
        "* Training Epochs - 10\n",
        "* Normalization Parameters - [0.485, 0.456, 0.406]\n",
        "* Optimizer Type - SGD (lr = 0.001, momentum = 0.9)\n",
        "\n",
        "Results - \n",
        "* Best Training Accuracy = 0.9045\n",
        "* Best Validation Acuracy = 0.9050\n",
        "* Best Validation F1 Score = 0.5849\n",
        "\n",
        "<===================================================>\n",
        "\n"
      ]
    },
    {
      "cell_type": "markdown",
      "metadata": {
        "id": "z2axmTT3iBbF"
      },
      "source": [
        "## Library Import"
      ]
    },
    {
      "cell_type": "code",
      "metadata": {
        "id": "4BbpDAffiEpP"
      },
      "source": [
        "## Standard Liraries\n",
        "import os\n",
        "import pandas as pd\n",
        "import matplotlib.pyplot as plt\n",
        "import numpy as np\n",
        "import tqdm as tqdm\n",
        "from PIL import Image\n",
        "import math\n",
        "from google.colab.patches import cv2_imshow # for image display\n",
        "import cv2 as cv\n",
        "%matplotlib inline\n",
        "from sklearn.metrics import *\n",
        "\n",
        "\n",
        "## PyTorch Libraries for Transfer Learning\n",
        "import torch\n",
        "from torchvision import transforms, datasets\n",
        "import torch.nn as nn\n",
        "import torch.nn.functional as F\n",
        "from torchvision import datasets, models, transforms\n",
        "from torch.utils.data import Dataset, DataLoader, random_split\n",
        "import torch.optim as optim\n",
        "from torch.optim import lr_scheduler\n",
        "import time\n",
        "import copy"
      ],
      "execution_count": 275,
      "outputs": []
    },
    {
      "cell_type": "code",
      "metadata": {
        "id": "QHDN15pvwnvA"
      },
      "source": [
        "device = torch.device('cuda:0' if torch.cuda.is_available() else 'cpu')"
      ],
      "execution_count": 276,
      "outputs": []
    },
    {
      "cell_type": "markdown",
      "metadata": {
        "id": "wmlIwhaBh8ce"
      },
      "source": [
        "## File Reading and Data Inspection"
      ]
    },
    {
      "cell_type": "code",
      "metadata": {
        "colab": {
          "base_uri": "https://localhost:8080/"
        },
        "id": "wwtjtJ9SdSCX",
        "outputId": "e9fda65b-631b-4c37-9536-e3d562b0943d"
      },
      "source": [
        "starting_directory = os.getcwd()\n",
        "os.chdir('/content/drive/MyDrive/Colab Notebooks/FlixStock Assignment/classification-assignment')\n",
        "os.listdir()"
      ],
      "execution_count": 277,
      "outputs": [
        {
          "output_type": "execute_result",
          "data": {
            "text/plain": [
              "['attributes.csv', '.DS_Store', 'images']"
            ]
          },
          "metadata": {
            "tags": []
          },
          "execution_count": 277
        }
      ]
    },
    {
      "cell_type": "code",
      "metadata": {
        "id": "bIF6qLTAh6qz"
      },
      "source": [
        "# Read CSV for Dataset Description\n",
        "attributes = pd.read_csv('attributes.csv')"
      ],
      "execution_count": 278,
      "outputs": []
    },
    {
      "cell_type": "code",
      "metadata": {
        "colab": {
          "base_uri": "https://localhost:8080/",
          "height": 202
        },
        "id": "qau1-iHmklFX",
        "outputId": "042719b1-f9c6-4537-9dad-8a83ada5a8cb"
      },
      "source": [
        "# Check DF\n",
        "attributes.head()"
      ],
      "execution_count": 279,
      "outputs": [
        {
          "output_type": "execute_result",
          "data": {
            "text/html": [
              "<div>\n",
              "<style scoped>\n",
              "    .dataframe tbody tr th:only-of-type {\n",
              "        vertical-align: middle;\n",
              "    }\n",
              "\n",
              "    .dataframe tbody tr th {\n",
              "        vertical-align: top;\n",
              "    }\n",
              "\n",
              "    .dataframe thead th {\n",
              "        text-align: right;\n",
              "    }\n",
              "</style>\n",
              "<table border=\"1\" class=\"dataframe\">\n",
              "  <thead>\n",
              "    <tr style=\"text-align: right;\">\n",
              "      <th></th>\n",
              "      <th>filename</th>\n",
              "      <th>neck</th>\n",
              "      <th>sleeve_length</th>\n",
              "      <th>pattern</th>\n",
              "    </tr>\n",
              "  </thead>\n",
              "  <tbody>\n",
              "    <tr>\n",
              "      <th>0</th>\n",
              "      <td>cdc8cd2a-0938-4970-a3b5-f5ed9595222c1527925869...</td>\n",
              "      <td>6.0</td>\n",
              "      <td>NaN</td>\n",
              "      <td>4.0</td>\n",
              "    </tr>\n",
              "    <tr>\n",
              "      <th>1</th>\n",
              "      <td>11469770662809-Metersbonwe-Navy-T-shirt-485146...</td>\n",
              "      <td>5.0</td>\n",
              "      <td>3.0</td>\n",
              "      <td>9.0</td>\n",
              "    </tr>\n",
              "    <tr>\n",
              "      <th>2</th>\n",
              "      <td>11479107741104-Tommy-Hilfiger-Men-Navy-Blue-St...</td>\n",
              "      <td>6.0</td>\n",
              "      <td>1.0</td>\n",
              "      <td>9.0</td>\n",
              "    </tr>\n",
              "    <tr>\n",
              "      <th>3</th>\n",
              "      <td>f7ad67ab-eeb1-4449-8f63-7b580d2797e71532342804...</td>\n",
              "      <td>NaN</td>\n",
              "      <td>0.0</td>\n",
              "      <td>9.0</td>\n",
              "    </tr>\n",
              "    <tr>\n",
              "      <th>4</th>\n",
              "      <td>11516770810185-Splash-Men-Tshirts-767151677081...</td>\n",
              "      <td>6.0</td>\n",
              "      <td>3.0</td>\n",
              "      <td>9.0</td>\n",
              "    </tr>\n",
              "  </tbody>\n",
              "</table>\n",
              "</div>"
            ],
            "text/plain": [
              "                                            filename  ...  pattern\n",
              "0  cdc8cd2a-0938-4970-a3b5-f5ed9595222c1527925869...  ...      4.0\n",
              "1  11469770662809-Metersbonwe-Navy-T-shirt-485146...  ...      9.0\n",
              "2  11479107741104-Tommy-Hilfiger-Men-Navy-Blue-St...  ...      9.0\n",
              "3  f7ad67ab-eeb1-4449-8f63-7b580d2797e71532342804...  ...      9.0\n",
              "4  11516770810185-Splash-Men-Tshirts-767151677081...  ...      9.0\n",
              "\n",
              "[5 rows x 4 columns]"
            ]
          },
          "metadata": {
            "tags": []
          },
          "execution_count": 279
        }
      ]
    },
    {
      "cell_type": "markdown",
      "metadata": {
        "id": "-YH2xMyzo-xU"
      },
      "source": [
        "### Attribute File Inspection"
      ]
    },
    {
      "cell_type": "code",
      "metadata": {
        "colab": {
          "base_uri": "https://localhost:8080/",
          "height": 508
        },
        "id": "Q7Um0haq_j_w",
        "outputId": "97460f78-64d1-4ce9-957d-00be667f6d9d"
      },
      "source": [
        "# Detect Duplicates and Drop Them\n",
        "duplicate = attributes[attributes['filename'].duplicated()]\n",
        "duplicate"
      ],
      "execution_count": 280,
      "outputs": [
        {
          "output_type": "execute_result",
          "data": {
            "text/html": [
              "<div>\n",
              "<style scoped>\n",
              "    .dataframe tbody tr th:only-of-type {\n",
              "        vertical-align: middle;\n",
              "    }\n",
              "\n",
              "    .dataframe tbody tr th {\n",
              "        vertical-align: top;\n",
              "    }\n",
              "\n",
              "    .dataframe thead th {\n",
              "        text-align: right;\n",
              "    }\n",
              "</style>\n",
              "<table border=\"1\" class=\"dataframe\">\n",
              "  <thead>\n",
              "    <tr style=\"text-align: right;\">\n",
              "      <th></th>\n",
              "      <th>filename</th>\n",
              "      <th>neck</th>\n",
              "      <th>sleeve_length</th>\n",
              "      <th>pattern</th>\n",
              "    </tr>\n",
              "  </thead>\n",
              "  <tbody>\n",
              "    <tr>\n",
              "      <th>394</th>\n",
              "      <td>11519985443093-na-6291519985442963-1.jpg</td>\n",
              "      <td>6.0</td>\n",
              "      <td>2.0</td>\n",
              "      <td>9.0</td>\n",
              "    </tr>\n",
              "    <tr>\n",
              "      <th>869</th>\n",
              "      <td>3d2204b9-8db8-41bc-9e6e-7dcbd0e5bfd81527921368...</td>\n",
              "      <td>NaN</td>\n",
              "      <td>3.0</td>\n",
              "      <td>9.0</td>\n",
              "    </tr>\n",
              "    <tr>\n",
              "      <th>1004</th>\n",
              "      <td>184ee860-cb0c-43e9-a59f-b087d9517e971535628417...</td>\n",
              "      <td>6.0</td>\n",
              "      <td>NaN</td>\n",
              "      <td>9.0</td>\n",
              "    </tr>\n",
              "    <tr>\n",
              "      <th>1009</th>\n",
              "      <td>11500972213413-HERENOW-Men-Navy-Blue-Solid-Hen...</td>\n",
              "      <td>6.0</td>\n",
              "      <td>0.0</td>\n",
              "      <td>9.0</td>\n",
              "    </tr>\n",
              "    <tr>\n",
              "      <th>1171</th>\n",
              "      <td>f617edb8-a874-453b-b6d3-fb860248d5191532955920...</td>\n",
              "      <td>6.0</td>\n",
              "      <td>NaN</td>\n",
              "      <td>9.0</td>\n",
              "    </tr>\n",
              "    <tr>\n",
              "      <th>1176</th>\n",
              "      <td>11520422272285-Tommy-Hilfiger-Men-Grey-Solid-P...</td>\n",
              "      <td>2.0</td>\n",
              "      <td>NaN</td>\n",
              "      <td>9.0</td>\n",
              "    </tr>\n",
              "    <tr>\n",
              "      <th>1254</th>\n",
              "      <td>22c51074-4ad3-4c3a-aa2f-9753849ebde51530877671...</td>\n",
              "      <td>6.0</td>\n",
              "      <td>2.0</td>\n",
              "      <td>9.0</td>\n",
              "    </tr>\n",
              "    <tr>\n",
              "      <th>1318</th>\n",
              "      <td>11521455242291-IndigoGrey-Melange-Sleeveless-H...</td>\n",
              "      <td>6.0</td>\n",
              "      <td>2.0</td>\n",
              "      <td>NaN</td>\n",
              "    </tr>\n",
              "    <tr>\n",
              "      <th>1443</th>\n",
              "      <td>de641692-4912-4b0b-a2d8-f29b83570be91528788286...</td>\n",
              "      <td>NaN</td>\n",
              "      <td>3.0</td>\n",
              "      <td>NaN</td>\n",
              "    </tr>\n",
              "    <tr>\n",
              "      <th>1496</th>\n",
              "      <td>cd9b9487-f147-4e06-ae2c-9759d4d67e6b1527144425...</td>\n",
              "      <td>6.0</td>\n",
              "      <td>NaN</td>\n",
              "      <td>9.0</td>\n",
              "    </tr>\n",
              "    <tr>\n",
              "      <th>1501</th>\n",
              "      <td>11520494542273-na-4501520494542174-5.jpg</td>\n",
              "      <td>0.0</td>\n",
              "      <td>3.0</td>\n",
              "      <td>9.0</td>\n",
              "    </tr>\n",
              "    <tr>\n",
              "      <th>1921</th>\n",
              "      <td>50c01c83-1c2e-4152-ab27-c5c3b914ba3d1526967669...</td>\n",
              "      <td>NaN</td>\n",
              "      <td>3.0</td>\n",
              "      <td>9.0</td>\n",
              "    </tr>\n",
              "    <tr>\n",
              "      <th>1977</th>\n",
              "      <td>22c51074-4ad3-4c3a-aa2f-9753849ebde51530877671...</td>\n",
              "      <td>6.0</td>\n",
              "      <td>3.0</td>\n",
              "      <td>9.0</td>\n",
              "    </tr>\n",
              "    <tr>\n",
              "      <th>2003</th>\n",
              "      <td>a2d3c301-f970-4894-9f6d-7e3e6beefbf81535100042...</td>\n",
              "      <td>6.0</td>\n",
              "      <td>3.0</td>\n",
              "      <td>9.0</td>\n",
              "    </tr>\n",
              "    <tr>\n",
              "      <th>2195</th>\n",
              "      <td>11518854922727-Peter-England-Men-Blue-Solid-Ma...</td>\n",
              "      <td>2.0</td>\n",
              "      <td>3.0</td>\n",
              "      <td>NaN</td>\n",
              "    </tr>\n",
              "  </tbody>\n",
              "</table>\n",
              "</div>"
            ],
            "text/plain": [
              "                                               filename  ...  pattern\n",
              "394            11519985443093-na-6291519985442963-1.jpg  ...      9.0\n",
              "869   3d2204b9-8db8-41bc-9e6e-7dcbd0e5bfd81527921368...  ...      9.0\n",
              "1004  184ee860-cb0c-43e9-a59f-b087d9517e971535628417...  ...      9.0\n",
              "1009  11500972213413-HERENOW-Men-Navy-Blue-Solid-Hen...  ...      9.0\n",
              "1171  f617edb8-a874-453b-b6d3-fb860248d5191532955920...  ...      9.0\n",
              "1176  11520422272285-Tommy-Hilfiger-Men-Grey-Solid-P...  ...      9.0\n",
              "1254  22c51074-4ad3-4c3a-aa2f-9753849ebde51530877671...  ...      9.0\n",
              "1318  11521455242291-IndigoGrey-Melange-Sleeveless-H...  ...      NaN\n",
              "1443  de641692-4912-4b0b-a2d8-f29b83570be91528788286...  ...      NaN\n",
              "1496  cd9b9487-f147-4e06-ae2c-9759d4d67e6b1527144425...  ...      9.0\n",
              "1501           11520494542273-na-4501520494542174-5.jpg  ...      9.0\n",
              "1921  50c01c83-1c2e-4152-ab27-c5c3b914ba3d1526967669...  ...      9.0\n",
              "1977  22c51074-4ad3-4c3a-aa2f-9753849ebde51530877671...  ...      9.0\n",
              "2003  a2d3c301-f970-4894-9f6d-7e3e6beefbf81535100042...  ...      9.0\n",
              "2195  11518854922727-Peter-England-Men-Blue-Solid-Ma...  ...      NaN\n",
              "\n",
              "[15 rows x 4 columns]"
            ]
          },
          "metadata": {
            "tags": []
          },
          "execution_count": 280
        }
      ]
    },
    {
      "cell_type": "code",
      "metadata": {
        "id": "aSUO1hjZF_Sg"
      },
      "source": [
        "# Drop the Duplicates and reset the index\n",
        "attributes=attributes.drop_duplicates(subset=['filename'])\n",
        "attributes = attributes.reset_index(drop=True)"
      ],
      "execution_count": 281,
      "outputs": []
    },
    {
      "cell_type": "code",
      "metadata": {
        "colab": {
          "base_uri": "https://localhost:8080/"
        },
        "id": "s_FG_1y6qjHn",
        "outputId": "99b9c10d-24a0-49e6-ce82-c12e1e9977b2"
      },
      "source": [
        "# Check Discripancy within Data and Files\n",
        "attributes['filename'].shape[0]-len(list(os.listdir(\"images\")))"
      ],
      "execution_count": 282,
      "outputs": [
        {
          "output_type": "execute_result",
          "data": {
            "text/plain": [
              "441"
            ]
          },
          "metadata": {
            "tags": []
          },
          "execution_count": 282
        }
      ]
    },
    {
      "cell_type": "code",
      "metadata": {
        "id": "-iFJiaRezv6E"
      },
      "source": [
        "# Do not Include the images missing\n",
        "attributes_Filtered = attributes.copy()\n",
        "fileNamesList=list(os.listdir(\"images\"))\n",
        "for i in range(attributes['filename'].shape[0]):\n",
        "  if (attributes.iloc[i]['filename'] not in fileNamesList):\n",
        "    attributes_Filtered.drop(i, inplace=True)"
      ],
      "execution_count": 283,
      "outputs": []
    },
    {
      "cell_type": "code",
      "metadata": {
        "colab": {
          "base_uri": "https://localhost:8080/"
        },
        "id": "NBVc4sfZ3G0M",
        "outputId": "233fb32e-61e3-40e3-a645-07ffc73c81ae"
      },
      "source": [
        "# Recheck\n",
        "attributes_Filtered['filename'].shape[0]-len(fileNamesList)"
      ],
      "execution_count": 284,
      "outputs": [
        {
          "output_type": "execute_result",
          "data": {
            "text/plain": [
              "0"
            ]
          },
          "metadata": {
            "tags": []
          },
          "execution_count": 284
        }
      ]
    },
    {
      "cell_type": "code",
      "metadata": {
        "id": "1FCdGlIlV0pU"
      },
      "source": [
        "# Keep N/A as another feature\n",
        "# One of the ways one can reduce the bias without deleting the NaN Values\n",
        "attributes = attributes_Filtered.fillna(-1)"
      ],
      "execution_count": 285,
      "outputs": []
    },
    {
      "cell_type": "code",
      "metadata": {
        "colab": {
          "base_uri": "https://localhost:8080/",
          "height": 292
        },
        "id": "bY8BMyppkxR7",
        "outputId": "ffa84be0-d0e5-425a-9f2c-c79fdae30b22"
      },
      "source": [
        "# Check Individual Lable's Distribution\n",
        "attributes['neck'].value_counts().plot.bar()"
      ],
      "execution_count": 286,
      "outputs": [
        {
          "output_type": "execute_result",
          "data": {
            "text/plain": [
              "<matplotlib.axes._subplots.AxesSubplot at 0x7f9519475e50>"
            ]
          },
          "metadata": {
            "tags": []
          },
          "execution_count": 286
        },
        {
          "output_type": "display_data",
          "data": {
            "image/png": "[encoded data removed]",
            "text/plain": [
              "<Figure size 432x288 with 1 Axes>"
            ]
          },
          "metadata": {
            "tags": [],
            "needs_background": "light"
          }
        }
      ]
    },
    {
      "cell_type": "code",
      "metadata": {
        "colab": {
          "base_uri": "https://localhost:8080/",
          "height": 292
        },
        "id": "QVC0lrZ7k_C2",
        "outputId": "1516871a-bed5-493f-e029-3a095f915f76"
      },
      "source": [
        "attributes['sleeve_length'].value_counts().plot.bar()"
      ],
      "execution_count": 287,
      "outputs": [
        {
          "output_type": "execute_result",
          "data": {
            "text/plain": [
              "<matplotlib.axes._subplots.AxesSubplot at 0x7f9518ff1690>"
            ]
          },
          "metadata": {
            "tags": []
          },
          "execution_count": 287
        },
        {
          "output_type": "display_data",
          "data": {
            "image/png": "[encoded data removed]",
            "text/plain": [
              "<Figure size 432x288 with 1 Axes>"
            ]
          },
          "metadata": {
            "tags": [],
            "needs_background": "light"
          }
        }
      ]
    },
    {
      "cell_type": "code",
      "metadata": {
        "colab": {
          "base_uri": "https://localhost:8080/",
          "height": 293
        },
        "id": "G5RTF1Bin23U",
        "outputId": "7365bc5c-debb-46e0-94c8-c36e9d222497"
      },
      "source": [
        "attributes['pattern'].value_counts().plot.bar()"
      ],
      "execution_count": 288,
      "outputs": [
        {
          "output_type": "execute_result",
          "data": {
            "text/plain": [
              "<matplotlib.axes._subplots.AxesSubplot at 0x7f9518971550>"
            ]
          },
          "metadata": {
            "tags": []
          },
          "execution_count": 288
        },
        {
          "output_type": "display_data",
          "data": {
            "image/png": "[encoded data removed]",
            "text/plain": [
              "<Figure size 432x288 with 1 Axes>"
            ]
          },
          "metadata": {
            "tags": [],
            "needs_background": "light"
          }
        }
      ]
    },
    {
      "cell_type": "code",
      "metadata": {
        "colab": {
          "base_uri": "https://localhost:8080/"
        },
        "id": "-FeizUMRn4nm",
        "outputId": "b9343d7b-3dc7-4970-ca3b-f95562c99d85"
      },
      "source": [
        "print(\"Neck Null Vals: \"+str(attributes['neck'].isnull().sum()))\n",
        "print(\"Pattern Null Vals: \"+str(attributes['pattern'].isnull().sum()))\n",
        "print(\"Sleeve Length Null Vals: \"+str(attributes['sleeve_length'].isnull().sum()))"
      ],
      "execution_count": 289,
      "outputs": [
        {
          "output_type": "stream",
          "text": [
            "Neck Null Vals: 0\n",
            "Pattern Null Vals: 0\n",
            "Sleeve Length Null Vals: 0\n"
          ],
          "name": "stdout"
        }
      ]
    },
    {
      "cell_type": "code",
      "metadata": {
        "id": "eIETVIHjRuL1"
      },
      "source": [
        "# One Hot Encode the Values\n",
        "attributes = pd.get_dummies(attributes, columns = ['neck',\n",
        "                                                   'pattern',\n",
        "                                                   'sleeve_length'],\n",
        "                            drop_first=True)"
      ],
      "execution_count": 290,
      "outputs": []
    },
    {
      "cell_type": "code",
      "metadata": {
        "colab": {
          "base_uri": "https://localhost:8080/",
          "height": 651
        },
        "id": "NqKe6F9zSGz8",
        "outputId": "ecd5ed61-6189-4d2b-8736-0442268b1bbe"
      },
      "source": [
        "attributes"
      ],
      "execution_count": 291,
      "outputs": [
        {
          "output_type": "execute_result",
          "data": {
            "text/html": [
              "<div>\n",
              "<style scoped>\n",
              "    .dataframe tbody tr th:only-of-type {\n",
              "        vertical-align: middle;\n",
              "    }\n",
              "\n",
              "    .dataframe tbody tr th {\n",
              "        vertical-align: top;\n",
              "    }\n",
              "\n",
              "    .dataframe thead th {\n",
              "        text-align: right;\n",
              "    }\n",
              "</style>\n",
              "<table border=\"1\" class=\"dataframe\">\n",
              "  <thead>\n",
              "    <tr style=\"text-align: right;\">\n",
              "      <th></th>\n",
              "      <th>filename</th>\n",
              "      <th>neck_0.0</th>\n",
              "      <th>neck_1.0</th>\n",
              "      <th>neck_2.0</th>\n",
              "      <th>neck_3.0</th>\n",
              "      <th>neck_4.0</th>\n",
              "      <th>neck_5.0</th>\n",
              "      <th>neck_6.0</th>\n",
              "      <th>pattern_0.0</th>\n",
              "      <th>pattern_1.0</th>\n",
              "      <th>pattern_2.0</th>\n",
              "      <th>pattern_3.0</th>\n",
              "      <th>pattern_4.0</th>\n",
              "      <th>pattern_5.0</th>\n",
              "      <th>pattern_6.0</th>\n",
              "      <th>pattern_7.0</th>\n",
              "      <th>pattern_8.0</th>\n",
              "      <th>pattern_9.0</th>\n",
              "      <th>sleeve_length_0.0</th>\n",
              "      <th>sleeve_length_1.0</th>\n",
              "      <th>sleeve_length_2.0</th>\n",
              "      <th>sleeve_length_3.0</th>\n",
              "    </tr>\n",
              "  </thead>\n",
              "  <tbody>\n",
              "    <tr>\n",
              "      <th>0</th>\n",
              "      <td>cdc8cd2a-0938-4970-a3b5-f5ed9595222c1527925869...</td>\n",
              "      <td>0</td>\n",
              "      <td>0</td>\n",
              "      <td>0</td>\n",
              "      <td>0</td>\n",
              "      <td>0</td>\n",
              "      <td>0</td>\n",
              "      <td>1</td>\n",
              "      <td>0</td>\n",
              "      <td>0</td>\n",
              "      <td>0</td>\n",
              "      <td>0</td>\n",
              "      <td>1</td>\n",
              "      <td>0</td>\n",
              "      <td>0</td>\n",
              "      <td>0</td>\n",
              "      <td>0</td>\n",
              "      <td>0</td>\n",
              "      <td>0</td>\n",
              "      <td>0</td>\n",
              "      <td>0</td>\n",
              "      <td>0</td>\n",
              "    </tr>\n",
              "    <tr>\n",
              "      <th>1</th>\n",
              "      <td>11469770662809-Metersbonwe-Navy-T-shirt-485146...</td>\n",
              "      <td>0</td>\n",
              "      <td>0</td>\n",
              "      <td>0</td>\n",
              "      <td>0</td>\n",
              "      <td>0</td>\n",
              "      <td>1</td>\n",
              "      <td>0</td>\n",
              "      <td>0</td>\n",
              "      <td>0</td>\n",
              "      <td>0</td>\n",
              "      <td>0</td>\n",
              "      <td>0</td>\n",
              "      <td>0</td>\n",
              "      <td>0</td>\n",
              "      <td>0</td>\n",
              "      <td>0</td>\n",
              "      <td>1</td>\n",
              "      <td>0</td>\n",
              "      <td>0</td>\n",
              "      <td>0</td>\n",
              "      <td>1</td>\n",
              "    </tr>\n",
              "    <tr>\n",
              "      <th>3</th>\n",
              "      <td>f7ad67ab-eeb1-4449-8f63-7b580d2797e71532342804...</td>\n",
              "      <td>0</td>\n",
              "      <td>0</td>\n",
              "      <td>0</td>\n",
              "      <td>0</td>\n",
              "      <td>0</td>\n",
              "      <td>0</td>\n",
              "      <td>0</td>\n",
              "      <td>0</td>\n",
              "      <td>0</td>\n",
              "      <td>0</td>\n",
              "      <td>0</td>\n",
              "      <td>0</td>\n",
              "      <td>0</td>\n",
              "      <td>0</td>\n",
              "      <td>0</td>\n",
              "      <td>0</td>\n",
              "      <td>1</td>\n",
              "      <td>1</td>\n",
              "      <td>0</td>\n",
              "      <td>0</td>\n",
              "      <td>0</td>\n",
              "    </tr>\n",
              "    <tr>\n",
              "      <th>4</th>\n",
              "      <td>11516770810185-Splash-Men-Tshirts-767151677081...</td>\n",
              "      <td>0</td>\n",
              "      <td>0</td>\n",
              "      <td>0</td>\n",
              "      <td>0</td>\n",
              "      <td>0</td>\n",
              "      <td>0</td>\n",
              "      <td>1</td>\n",
              "      <td>0</td>\n",
              "      <td>0</td>\n",
              "      <td>0</td>\n",
              "      <td>0</td>\n",
              "      <td>0</td>\n",
              "      <td>0</td>\n",
              "      <td>0</td>\n",
              "      <td>0</td>\n",
              "      <td>0</td>\n",
              "      <td>1</td>\n",
              "      <td>0</td>\n",
              "      <td>0</td>\n",
              "      <td>0</td>\n",
              "      <td>1</td>\n",
              "    </tr>\n",
              "    <tr>\n",
              "      <th>5</th>\n",
              "      <td>11505295751483-FOREVER-21-Men-White-Self-Desig...</td>\n",
              "      <td>0</td>\n",
              "      <td>1</td>\n",
              "      <td>0</td>\n",
              "      <td>0</td>\n",
              "      <td>0</td>\n",
              "      <td>0</td>\n",
              "      <td>0</td>\n",
              "      <td>0</td>\n",
              "      <td>0</td>\n",
              "      <td>0</td>\n",
              "      <td>0</td>\n",
              "      <td>0</td>\n",
              "      <td>0</td>\n",
              "      <td>0</td>\n",
              "      <td>0</td>\n",
              "      <td>0</td>\n",
              "      <td>0</td>\n",
              "      <td>0</td>\n",
              "      <td>0</td>\n",
              "      <td>0</td>\n",
              "      <td>1</td>\n",
              "    </tr>\n",
              "    <tr>\n",
              "      <th>...</th>\n",
              "      <td>...</td>\n",
              "      <td>...</td>\n",
              "      <td>...</td>\n",
              "      <td>...</td>\n",
              "      <td>...</td>\n",
              "      <td>...</td>\n",
              "      <td>...</td>\n",
              "      <td>...</td>\n",
              "      <td>...</td>\n",
              "      <td>...</td>\n",
              "      <td>...</td>\n",
              "      <td>...</td>\n",
              "      <td>...</td>\n",
              "      <td>...</td>\n",
              "      <td>...</td>\n",
              "      <td>...</td>\n",
              "      <td>...</td>\n",
              "      <td>...</td>\n",
              "      <td>...</td>\n",
              "      <td>...</td>\n",
              "      <td>...</td>\n",
              "      <td>...</td>\n",
              "    </tr>\n",
              "    <tr>\n",
              "      <th>2216</th>\n",
              "      <td>11503030359861-Blackberrys-Men-Black-Solid-Man...</td>\n",
              "      <td>0</td>\n",
              "      <td>0</td>\n",
              "      <td>1</td>\n",
              "      <td>0</td>\n",
              "      <td>0</td>\n",
              "      <td>0</td>\n",
              "      <td>0</td>\n",
              "      <td>0</td>\n",
              "      <td>0</td>\n",
              "      <td>0</td>\n",
              "      <td>0</td>\n",
              "      <td>0</td>\n",
              "      <td>0</td>\n",
              "      <td>0</td>\n",
              "      <td>0</td>\n",
              "      <td>0</td>\n",
              "      <td>1</td>\n",
              "      <td>0</td>\n",
              "      <td>0</td>\n",
              "      <td>0</td>\n",
              "      <td>1</td>\n",
              "    </tr>\n",
              "    <tr>\n",
              "      <th>2217</th>\n",
              "      <td>11495782729779-Roadster-Men-Black-Printed-V-Ne...</td>\n",
              "      <td>0</td>\n",
              "      <td>0</td>\n",
              "      <td>0</td>\n",
              "      <td>0</td>\n",
              "      <td>0</td>\n",
              "      <td>1</td>\n",
              "      <td>0</td>\n",
              "      <td>0</td>\n",
              "      <td>0</td>\n",
              "      <td>0</td>\n",
              "      <td>0</td>\n",
              "      <td>0</td>\n",
              "      <td>0</td>\n",
              "      <td>0</td>\n",
              "      <td>0</td>\n",
              "      <td>0</td>\n",
              "      <td>1</td>\n",
              "      <td>0</td>\n",
              "      <td>0</td>\n",
              "      <td>0</td>\n",
              "      <td>1</td>\n",
              "    </tr>\n",
              "    <tr>\n",
              "      <th>2218</th>\n",
              "      <td>11507360109998-Nautica-Men-Blue-Striped-V-Neck...</td>\n",
              "      <td>0</td>\n",
              "      <td>0</td>\n",
              "      <td>0</td>\n",
              "      <td>0</td>\n",
              "      <td>0</td>\n",
              "      <td>1</td>\n",
              "      <td>0</td>\n",
              "      <td>0</td>\n",
              "      <td>0</td>\n",
              "      <td>0</td>\n",
              "      <td>0</td>\n",
              "      <td>0</td>\n",
              "      <td>0</td>\n",
              "      <td>0</td>\n",
              "      <td>0</td>\n",
              "      <td>0</td>\n",
              "      <td>1</td>\n",
              "      <td>0</td>\n",
              "      <td>0</td>\n",
              "      <td>0</td>\n",
              "      <td>1</td>\n",
              "    </tr>\n",
              "    <tr>\n",
              "      <th>2219</th>\n",
              "      <td>8f236dcd-4a2b-49ff-9229-981e7db946f91537273774...</td>\n",
              "      <td>0</td>\n",
              "      <td>0</td>\n",
              "      <td>0</td>\n",
              "      <td>0</td>\n",
              "      <td>0</td>\n",
              "      <td>0</td>\n",
              "      <td>1</td>\n",
              "      <td>0</td>\n",
              "      <td>0</td>\n",
              "      <td>0</td>\n",
              "      <td>0</td>\n",
              "      <td>0</td>\n",
              "      <td>1</td>\n",
              "      <td>0</td>\n",
              "      <td>0</td>\n",
              "      <td>0</td>\n",
              "      <td>0</td>\n",
              "      <td>0</td>\n",
              "      <td>0</td>\n",
              "      <td>0</td>\n",
              "      <td>0</td>\n",
              "    </tr>\n",
              "    <tr>\n",
              "      <th>2222</th>\n",
              "      <td>4654fc4c-76ca-43e0-b6ff-91615995d32b1527167420...</td>\n",
              "      <td>0</td>\n",
              "      <td>0</td>\n",
              "      <td>1</td>\n",
              "      <td>0</td>\n",
              "      <td>0</td>\n",
              "      <td>0</td>\n",
              "      <td>0</td>\n",
              "      <td>0</td>\n",
              "      <td>0</td>\n",
              "      <td>0</td>\n",
              "      <td>0</td>\n",
              "      <td>0</td>\n",
              "      <td>0</td>\n",
              "      <td>0</td>\n",
              "      <td>0</td>\n",
              "      <td>0</td>\n",
              "      <td>1</td>\n",
              "      <td>0</td>\n",
              "      <td>0</td>\n",
              "      <td>0</td>\n",
              "      <td>1</td>\n",
              "    </tr>\n",
              "  </tbody>\n",
              "</table>\n",
              "<p>1782 rows × 22 columns</p>\n",
              "</div>"
            ],
            "text/plain": [
              "                                               filename  ...  sleeve_length_3.0\n",
              "0     cdc8cd2a-0938-4970-a3b5-f5ed9595222c1527925869...  ...                  0\n",
              "1     11469770662809-Metersbonwe-Navy-T-shirt-485146...  ...                  1\n",
              "3     f7ad67ab-eeb1-4449-8f63-7b580d2797e71532342804...  ...                  0\n",
              "4     11516770810185-Splash-Men-Tshirts-767151677081...  ...                  1\n",
              "5     11505295751483-FOREVER-21-Men-White-Self-Desig...  ...                  1\n",
              "...                                                 ...  ...                ...\n",
              "2216  11503030359861-Blackberrys-Men-Black-Solid-Man...  ...                  1\n",
              "2217  11495782729779-Roadster-Men-Black-Printed-V-Ne...  ...                  1\n",
              "2218  11507360109998-Nautica-Men-Blue-Striped-V-Neck...  ...                  1\n",
              "2219  8f236dcd-4a2b-49ff-9229-981e7db946f91537273774...  ...                  0\n",
              "2222  4654fc4c-76ca-43e0-b6ff-91615995d32b1527167420...  ...                  1\n",
              "\n",
              "[1782 rows x 22 columns]"
            ]
          },
          "metadata": {
            "tags": []
          },
          "execution_count": 291
        }
      ]
    },
    {
      "cell_type": "markdown",
      "metadata": {
        "id": "kwkp0sxDvbsz"
      },
      "source": [
        "### Loading in PyTorch"
      ]
    },
    {
      "cell_type": "code",
      "metadata": {
        "id": "G5xvp68YVndX"
      },
      "source": [
        "# Splitting into Training, Testing and Validation Datasets\n",
        "msk = np.random.rand(len(attributes)) < 0.8\n",
        "train = attributes[msk]\n",
        "test = attributes[~msk]\n",
        "\n",
        "msk = np.random.rand(len(test)) < 0.5\n",
        "validation = test[msk]\n",
        "test = test[~msk]\n",
        "\n",
        "train = train.reset_index(drop=True)\n",
        "test = test.reset_index(drop=True)\n",
        "validation = validation.reset_index(drop=True)"
      ],
      "execution_count": 292,
      "outputs": []
    },
    {
      "cell_type": "code",
      "metadata": {
        "colab": {
          "base_uri": "https://localhost:8080/"
        },
        "id": "3xTL_8DEugsV",
        "outputId": "ce8d9b66-b8b7-4a1a-c80d-8fa7d5b62fd8"
      },
      "source": [
        "print(train.shape)\n",
        "print(test.shape)\n",
        "print(validation.shape)"
      ],
      "execution_count": 293,
      "outputs": [
        {
          "output_type": "stream",
          "text": [
            "(1428, 22)\n",
            "(159, 22)\n",
            "(195, 22)\n"
          ],
          "name": "stdout"
        }
      ]
    },
    {
      "cell_type": "code",
      "metadata": {
        "id": "CSub5OO4vrwV"
      },
      "source": [
        "from torchvision.io import read_image\n",
        "import torch.utils.data as data\n",
        "\n",
        "attribute_path= '/content/drive/MyDrive/Colab Notebooks/FlixStock Assignment/classification-assignment/attributes.csv'\n",
        "class MyCustomDataset(data.Dataset):\n",
        "# __init__ function is where the initial logic happens like reading a csv,\n",
        "# assigning transforms etc.\n",
        "\n",
        "  def __init__(self, dataf,transform):\n",
        "\n",
        "    # Transforms\n",
        "    self.transform = transform\n",
        "\n",
        "    # Load dataframe\n",
        "    data_info = dataf\n",
        "    # First column contains the image paths\n",
        "    self.image_arr = np.asarray(data_info.iloc[1:, 0])\n",
        "    # Second and other columns are the labels\n",
        "    self.label_arr = np.asarray(data_info.iloc[1:, 1:])\n",
        "    self.label_arr = self.label_arr.tolist()\n",
        "    self.label_arr = torch.tensor(self.label_arr, dtype=torch.float32)\n",
        "\n",
        "    # Calculate Length \n",
        "    self.data_len = len(data_info.index)\n",
        "\n",
        "\n",
        "# __getitem__ function returns the data and labels\n",
        "  def __getitem__(self, index):\n",
        "\n",
        "    # Get image name from the pandas df\n",
        "    single_image_name = self.image_arr[index-1]\n",
        "    # Open image\n",
        "    img_as_img = Image.open(str(\"images/\"+single_image_name))\n",
        "    # Apply the transformation filters \n",
        "    img_as_tensor = self.transform(img_as_img)\n",
        "\n",
        "\n",
        "    # Get label(class) of the image based on the cropped pandas column\n",
        "    single_image_label = self.label_arr[index-1]\n",
        "\n",
        "    return (img_as_tensor, single_image_label)\n",
        "\n",
        "  def __len__(self):\n",
        "    return self.data_len\n",
        "\n",
        "  def getImagesList(self):\n",
        "    return self.label_arr"
      ],
      "execution_count": 294,
      "outputs": []
    },
    {
      "cell_type": "code",
      "metadata": {
        "id": "G9Si0vF46l_g"
      },
      "source": [
        "# transforms \n",
        "transformer =  transforms.Compose(\n",
        "    [\n",
        "     transforms.Resize((512, 512)),\n",
        "     transforms.RandomHorizontalFlip(),\n",
        "     transforms.RandomVerticalFlip(),\n",
        "     transforms.ToTensor(),\n",
        "     transforms.Normalize([0.485, 0.456, 0.406], [0.229, 0.224, 0.225])\n",
        "     # 0.5,0.5,0.5 gave the F1 score as 0.60\n",
        "     # These values come from ImageNet's normalization score, \n",
        "    ]\n",
        "      )\n",
        "transformer_test =  transforms.Compose(\n",
        "    [\n",
        "     transforms.Resize((512, 512)),\n",
        "     transforms.ToTensor(),\n",
        "     transforms.Normalize([0.485, 0.456, 0.406], [0.229, 0.224, 0.225])\n",
        "    ]\n",
        "      )"
      ],
      "execution_count": 295,
      "outputs": []
    },
    {
      "cell_type": "code",
      "metadata": {
        "id": "ol_2OxyXz2NN"
      },
      "source": [
        "training_dataset = MyCustomDataset(train,transform=transformer)\n",
        "testing_dataset = MyCustomDataset(test,transform=transformer_test)\n",
        "validation_dataset = MyCustomDataset(validation,transform=transformer)\n",
        "\n",
        "list_images_training = training_dataset.getImagesList()\n",
        "list_images_validation = validation_dataset.getImagesList()\n",
        "list_images_testing = training_dataset.getImagesList()"
      ],
      "execution_count": 296,
      "outputs": []
    },
    {
      "cell_type": "code",
      "metadata": {
        "colab": {
          "base_uri": "https://localhost:8080/",
          "height": 340
        },
        "id": "BCzufEvkwsZa",
        "outputId": "13a8abc9-dba5-4916-adbd-9ea5d2d143ec"
      },
      "source": [
        "temp_img, temp_lab = training_dataset[4]\n",
        "print(temp_lab)\n",
        "plt.imshow(temp_img.permute(1, 2, 0))"
      ],
      "execution_count": 297,
      "outputs": [
        {
          "output_type": "stream",
          "text": [
            "Clipping input data to the valid range for imshow with RGB data ([0..1] for floats or [0..255] for integers).\n"
          ],
          "name": "stderr"
        },
        {
          "output_type": "stream",
          "text": [
            "tensor([0., 0., 0., 0., 0., 1., 0., 0., 0., 0., 0., 0., 0., 0., 0., 0., 1., 0.,\n",
            "        0., 0., 1.])\n"
          ],
          "name": "stdout"
        },
        {
          "output_type": "execute_result",
          "data": {
            "text/plain": [
              "<matplotlib.image.AxesImage at 0x7f94dfeb1bd0>"
            ]
          },
          "metadata": {
            "tags": []
          },
          "execution_count": 297
        },
        {
          "output_type": "display_data",
          "data": {
            "image/png": "[encoded data removed]",
            "text/plain": [
              "<Figure size 432x288 with 1 Axes>"
            ]
          },
          "metadata": {
            "tags": [],
            "needs_background": "light"
          }
        }
      ]
    },
    {
      "cell_type": "code",
      "metadata": {
        "colab": {
          "base_uri": "https://localhost:8080/",
          "height": 340
        },
        "id": "0V6kho-94Gth",
        "outputId": "d8b81450-385c-4974-8206-a046b057cd9f"
      },
      "source": [
        "temp_img, temp_lab = testing_dataset[2]\n",
        "print(temp_lab)\n",
        "plt.imshow(temp_img.permute(1, 2, 0))"
      ],
      "execution_count": 298,
      "outputs": [
        {
          "output_type": "stream",
          "text": [
            "Clipping input data to the valid range for imshow with RGB data ([0..1] for floats or [0..255] for integers).\n"
          ],
          "name": "stderr"
        },
        {
          "output_type": "stream",
          "text": [
            "tensor([0., 1., 0., 0., 0., 0., 0., 0., 0., 0., 0., 0., 0., 0., 0., 0., 1., 0.,\n",
            "        0., 0., 1.])\n"
          ],
          "name": "stdout"
        },
        {
          "output_type": "execute_result",
          "data": {
            "text/plain": [
              "<matplotlib.image.AxesImage at 0x7f9518bec350>"
            ]
          },
          "metadata": {
            "tags": []
          },
          "execution_count": 298
        },
        {
          "output_type": "display_data",
          "data": {
            "image/png": "[encoded data removed]",
            "text/plain": [
              "<Figure size 432x288 with 1 Axes>"
            ]
          },
          "metadata": {
            "tags": [],
            "needs_background": "light"
          }
        }
      ]
    },
    {
      "cell_type": "code",
      "metadata": {
        "colab": {
          "base_uri": "https://localhost:8080/",
          "height": 340
        },
        "id": "-kgUlgE2-nTk",
        "outputId": "97b4e777-5769-4030-cd31-4ad4a9670ef9"
      },
      "source": [
        "temp_img, temp_lab = validation_dataset[4]\n",
        "print(temp_lab)\n",
        "plt.imshow(temp_img.permute(1, 2, 0))"
      ],
      "execution_count": 299,
      "outputs": [
        {
          "output_type": "stream",
          "text": [
            "Clipping input data to the valid range for imshow with RGB data ([0..1] for floats or [0..255] for integers).\n"
          ],
          "name": "stderr"
        },
        {
          "output_type": "stream",
          "text": [
            "tensor([0., 0., 1., 0., 0., 0., 0., 0., 0., 0., 0., 0., 0., 0., 0., 0., 1., 0.,\n",
            "        0., 0., 1.])\n"
          ],
          "name": "stdout"
        },
        {
          "output_type": "execute_result",
          "data": {
            "text/plain": [
              "<matplotlib.image.AxesImage at 0x7f94df9d13d0>"
            ]
          },
          "metadata": {
            "tags": []
          },
          "execution_count": 299
        },
        {
          "output_type": "display_data",
          "data": {
            "image/png": "[encoded data removed]",
            "text/plain": [
              "<Figure size 432x288 with 1 Axes>"
            ]
          },
          "metadata": {
            "tags": [],
            "needs_background": "light"
          }
        }
      ]
    },
    {
      "cell_type": "code",
      "metadata": {
        "id": "26FG_4DYxCcP"
      },
      "source": [
        "# HyperParamter 1 - Tweak for further model improvement\n",
        "batch_size = 16"
      ],
      "execution_count": 300,
      "outputs": []
    },
    {
      "cell_type": "code",
      "metadata": {
        "id": "Nlnti-PKvgks"
      },
      "source": [
        "train_dataloader = DataLoader(training_dataset, batch_size=batch_size, shuffle=True)\n",
        "validation_dataloader = DataLoader(validation_dataset, batch_size= batch_size,shuffle=True)\n",
        "test_dataloader = DataLoader(testing_dataset, shuffle=True)"
      ],
      "execution_count": 313,
      "outputs": []
    },
    {
      "cell_type": "code",
      "metadata": {
        "colab": {
          "base_uri": "https://localhost:8080/"
        },
        "id": "meaOu-W9IUc4",
        "outputId": "b9cb81f4-dd10-4aaf-eb03-38d1c356bd45"
      },
      "source": [
        "batch = next(iter(train_dataloader))\n",
        "print('len:', len(batch))\n",
        "images, labels = batch\n",
        "print('types:', type(images), type(labels))\n",
        "print('shapes:', images.shape, labels.shape)"
      ],
      "execution_count": 302,
      "outputs": [
        {
          "output_type": "stream",
          "text": [
            "len: 2\n",
            "types: <class 'torch.Tensor'> <class 'torch.Tensor'>\n",
            "shapes: torch.Size([16, 3, 512, 512]) torch.Size([16, 21])\n"
          ],
          "name": "stdout"
        }
      ]
    },
    {
      "cell_type": "code",
      "metadata": {
        "colab": {
          "base_uri": "https://localhost:8080/",
          "height": 357
        },
        "id": "eUedFGTdxttJ",
        "outputId": "93216dc8-3f1f-4a67-b889-2db5fcb21baa"
      },
      "source": [
        "# Display image and label.\n",
        "train_features, train_labels = next(iter(train_dataloader))\n",
        "print(f\"Feature batch shape: {train_features.size()}\")\n",
        "print(f\"Labels batch shape: {train_labels.size()}\")\n",
        "img = train_features[0]\n",
        "label = train_labels[0]\n",
        "plt.imshow(img.permute(1, 2, 0), cmap=\"gray\")\n",
        "plt.show()\n",
        "print(f\"Label: {label}\")"
      ],
      "execution_count": 303,
      "outputs": [
        {
          "output_type": "stream",
          "text": [
            "Clipping input data to the valid range for imshow with RGB data ([0..1] for floats or [0..255] for integers).\n"
          ],
          "name": "stderr"
        },
        {
          "output_type": "stream",
          "text": [
            "Feature batch shape: torch.Size([16, 3, 512, 512])\n",
            "Labels batch shape: torch.Size([16, 21])\n"
          ],
          "name": "stdout"
        },
        {
          "output_type": "display_data",
          "data": {
            "image/png": "[encoded data removed]",
            "text/plain": [
              "<Figure size 432x288 with 1 Axes>"
            ]
          },
          "metadata": {
            "tags": [],
            "needs_background": "light"
          }
        },
        {
          "output_type": "stream",
          "text": [
            "Label: tensor([0., 0., 0., 0., 0., 0., 0., 0., 0., 0., 0., 0., 0., 0., 0., 0., 0., 0.,\n",
            "        0., 0., 1.])\n"
          ],
          "name": "stdout"
        }
      ]
    },
    {
      "cell_type": "markdown",
      "metadata": {
        "id": "BWdIh1F9SV4L"
      },
      "source": [
        "## Transfer Learning"
      ]
    },
    {
      "cell_type": "code",
      "metadata": {
        "id": "xI9J4CZOSYpP"
      },
      "source": [
        "def train_model(model, criterion, optimizer, scheduler, num_epochs=25):\n",
        "    since = time.time()\n",
        "    count = 0\n",
        "\n",
        "    best_model_wts = copy.deepcopy(model.state_dict())\n",
        "    best_acc = 0.0\n",
        "    best_f1 = 0.0\n",
        "\n",
        "    for epoch in range(num_epochs):\n",
        "        print('Epoch {}/{}'.format(epoch, num_epochs - 1))\n",
        "        print('-' * 10)\n",
        "\n",
        "        # Each epoch has a training and validation phase\n",
        "        for phase in ['train', 'val']:\n",
        "            if phase == 'train':\n",
        "                model.train()  # Set model to training mode\n",
        "                dataloader = train_dataloader\n",
        "            else:\n",
        "                dataloader = validation_dataloader\n",
        "                model.eval()   # Set model to evaluate mode\n",
        "\n",
        "            running_loss = 0.0\n",
        "            running_corrects = 0\n",
        "            f1_metric = 0\n",
        "\n",
        "            # Iterate over data.\n",
        "            for inputs, labels in dataloader:\n",
        "                count+=1\n",
        "                inputs = inputs.to(device)\n",
        "                labels = labels.to(device)\n",
        "\n",
        "                # zero the parameter gradients\n",
        "                optimizer.zero_grad()\n",
        "\n",
        "                # forward\n",
        "                # track history if only in train\n",
        "                with torch.set_grad_enabled(phase == 'train'):\n",
        "                    outputs = model(inputs)\n",
        "                    outputs = torch.sigmoid(outputs)\n",
        "                    loss = criterion(outputs, labels)\n",
        "                    # backward + optimize only if in training phase\n",
        "                    if phase == 'train':\n",
        "                        loss.backward()\n",
        "                        optimizer.step()\n",
        "\n",
        "                # statistics\n",
        "                running_loss += loss.item()\n",
        "                outputs = outputs.cpu().detach().numpy()\n",
        "                outputs = np.array(outputs > 0.5, dtype = float)\n",
        "                preds = outputs\n",
        "                targets = labels.data.cpu().detach().numpy()\n",
        "                running_corrects += (sum(sum(preds==targets)))\n",
        "                f1_metric += f1_score(y_true=targets, y_pred=preds, average='micro')\n",
        "\n",
        "            if phase == 'train':\n",
        "                scheduler.step()\n",
        "\n",
        "            epoch_loss = running_loss/(count)\n",
        "            epoch_acc = running_corrects/(count*16*21)\n",
        "            epoch_f1 = f1_metric/(count)\n",
        "            count = 0\n",
        "\n",
        "            print('{} Loss: {:.4f} Acc: {:.4f} F1: {:.4f}'.format(\n",
        "                phase, epoch_loss, epoch_acc, epoch_f1))\n",
        "\n",
        "            # deep copy the model\n",
        "            if phase == 'val' and epoch_f1 > best_f1:\n",
        "                best_f1 = epoch_f1\n",
        "                best_model_wts = copy.deepcopy(model.state_dict())\n",
        "                count = 0\n",
        "\n",
        "\n",
        "    time_elapsed = time.time() - since\n",
        "    print('Training complete in {:.0f}m {:.0f}s'.format(\n",
        "        time_elapsed // 60, time_elapsed % 60))\n",
        "    print('Best val F1: {:.4f}'.format(best_f1))\n",
        "\n",
        "    # load best model weights\n",
        "    model.load_state_dict(best_model_wts)\n",
        "    return model"
      ],
      "execution_count": 304,
      "outputs": []
    },
    {
      "cell_type": "code",
      "metadata": {
        "id": "Spnvp6yOSc0n"
      },
      "source": [
        "#model_ft = models.resnet18(pretrained=True)\n",
        "model_ft = models.resnext50_32x4d(pretrained=True)\n",
        "#mobilenet_v3_large\n",
        "for param in model_ft.parameters():\n",
        "    param.requires_grad = False\n",
        "num_ftrs = model_ft.fc.in_features\n",
        "# Alternatively, it can be generalized to nn.Linear(num_ftrs, len(class_names)).\n",
        "model_ft.fc = nn.Linear(num_ftrs,21)\n",
        "model_ft = model_ft.to(device)\n",
        "criterion = nn.BCELoss()\n",
        "# Observe that all parameters are being optimized\n",
        "#optimizer_ft = optim.SGD(model_ft.parameters(), lr=0.001, momentum=0.9)\n",
        "optimizer_ft = optim.Adam(model_ft.parameters(), lr=0.001)\n",
        "# Decay LR by a factor of 0.1 every 7 epochs\n",
        "exp_lr_scheduler = lr_scheduler.StepLR(optimizer_ft, step_size=7, gamma=0.1)"
      ],
      "execution_count": 305,
      "outputs": []
    },
    {
      "cell_type": "code",
      "metadata": {
        "colab": {
          "base_uri": "https://localhost:8080/"
        },
        "id": "APUnJ2-vNt2r",
        "outputId": "712493c2-f493-4a63-e7bf-f64922fadebc"
      },
      "source": [
        "model_ft.eval()"
      ],
      "execution_count": 306,
      "outputs": [
        {
          "output_type": "execute_result",
          "data": {
            "text/plain": [
              "ResNet(\n",
              "  (conv1): Conv2d(3, 64, kernel_size=(7, 7), stride=(2, 2), padding=(3, 3), bias=False)\n",
              "  (bn1): BatchNorm2d(64, eps=1e-05, momentum=0.1, affine=True, track_running_stats=True)\n",
              "  (relu): ReLU(inplace=True)\n",
              "  (maxpool): MaxPool2d(kernel_size=3, stride=2, padding=1, dilation=1, ceil_mode=False)\n",
              "  (layer1): Sequential(\n",
              "    (0): Bottleneck(\n",
              "      (conv1): Conv2d(64, 128, kernel_size=(1, 1), stride=(1, 1), bias=False)\n",
              "      (bn1): BatchNorm2d(128, eps=1e-05, momentum=0.1, affine=True, track_running_stats=True)\n",
              "      (conv2): Conv2d(128, 128, kernel_size=(3, 3), stride=(1, 1), padding=(1, 1), groups=32, bias=False)\n",
              "      (bn2): BatchNorm2d(128, eps=1e-05, momentum=0.1, affine=True, track_running_stats=True)\n",
              "      (conv3): Conv2d(128, 256, kernel_size=(1, 1), stride=(1, 1), bias=False)\n",
              "      (bn3): BatchNorm2d(256, eps=1e-05, momentum=0.1, affine=True, track_running_stats=True)\n",
              "      (relu): ReLU(inplace=True)\n",
              "      (downsample): Sequential(\n",
              "        (0): Conv2d(64, 256, kernel_size=(1, 1), stride=(1, 1), bias=False)\n",
              "        (1): BatchNorm2d(256, eps=1e-05, momentum=0.1, affine=True, track_running_stats=True)\n",
              "      )\n",
              "    )\n",
              "    (1): Bottleneck(\n",
              "      (conv1): Conv2d(256, 128, kernel_size=(1, 1), stride=(1, 1), bias=False)\n",
              "      (bn1): BatchNorm2d(128, eps=1e-05, momentum=0.1, affine=True, track_running_stats=True)\n",
              "      (conv2): Conv2d(128, 128, kernel_size=(3, 3), stride=(1, 1), padding=(1, 1), groups=32, bias=False)\n",
              "      (bn2): BatchNorm2d(128, eps=1e-05, momentum=0.1, affine=True, track_running_stats=True)\n",
              "      (conv3): Conv2d(128, 256, kernel_size=(1, 1), stride=(1, 1), bias=False)\n",
              "      (bn3): BatchNorm2d(256, eps=1e-05, momentum=0.1, affine=True, track_running_stats=True)\n",
              "      (relu): ReLU(inplace=True)\n",
              "    )\n",
              "    (2): Bottleneck(\n",
              "      (conv1): Conv2d(256, 128, kernel_size=(1, 1), stride=(1, 1), bias=False)\n",
              "      (bn1): BatchNorm2d(128, eps=1e-05, momentum=0.1, affine=True, track_running_stats=True)\n",
              "      (conv2): Conv2d(128, 128, kernel_size=(3, 3), stride=(1, 1), padding=(1, 1), groups=32, bias=False)\n",
              "      (bn2): BatchNorm2d(128, eps=1e-05, momentum=0.1, affine=True, track_running_stats=True)\n",
              "      (conv3): Conv2d(128, 256, kernel_size=(1, 1), stride=(1, 1), bias=False)\n",
              "      (bn3): BatchNorm2d(256, eps=1e-05, momentum=0.1, affine=True, track_running_stats=True)\n",
              "      (relu): ReLU(inplace=True)\n",
              "    )\n",
              "  )\n",
              "  (layer2): Sequential(\n",
              "    (0): Bottleneck(\n",
              "      (conv1): Conv2d(256, 256, kernel_size=(1, 1), stride=(1, 1), bias=False)\n",
              "      (bn1): BatchNorm2d(256, eps=1e-05, momentum=0.1, affine=True, track_running_stats=True)\n",
              "      (conv2): Conv2d(256, 256, kernel_size=(3, 3), stride=(2, 2), padding=(1, 1), groups=32, bias=False)\n",
              "      (bn2): BatchNorm2d(256, eps=1e-05, momentum=0.1, affine=True, track_running_stats=True)\n",
              "      (conv3): Conv2d(256, 512, kernel_size=(1, 1), stride=(1, 1), bias=False)\n",
              "      (bn3): BatchNorm2d(512, eps=1e-05, momentum=0.1, affine=True, track_running_stats=True)\n",
              "      (relu): ReLU(inplace=True)\n",
              "      (downsample): Sequential(\n",
              "        (0): Conv2d(256, 512, kernel_size=(1, 1), stride=(2, 2), bias=False)\n",
              "        (1): BatchNorm2d(512, eps=1e-05, momentum=0.1, affine=True, track_running_stats=True)\n",
              "      )\n",
              "    )\n",
              "    (1): Bottleneck(\n",
              "      (conv1): Conv2d(512, 256, kernel_size=(1, 1), stride=(1, 1), bias=False)\n",
              "      (bn1): BatchNorm2d(256, eps=1e-05, momentum=0.1, affine=True, track_running_stats=True)\n",
              "      (conv2): Conv2d(256, 256, kernel_size=(3, 3), stride=(1, 1), padding=(1, 1), groups=32, bias=False)\n",
              "      (bn2): BatchNorm2d(256, eps=1e-05, momentum=0.1, affine=True, track_running_stats=True)\n",
              "      (conv3): Conv2d(256, 512, kernel_size=(1, 1), stride=(1, 1), bias=False)\n",
              "      (bn3): BatchNorm2d(512, eps=1e-05, momentum=0.1, affine=True, track_running_stats=True)\n",
              "      (relu): ReLU(inplace=True)\n",
              "    )\n",
              "    (2): Bottleneck(\n",
              "      (conv1): Conv2d(512, 256, kernel_size=(1, 1), stride=(1, 1), bias=False)\n",
              "      (bn1): BatchNorm2d(256, eps=1e-05, momentum=0.1, affine=True, track_running_stats=True)\n",
              "      (conv2): Conv2d(256, 256, kernel_size=(3, 3), stride=(1, 1), padding=(1, 1), groups=32, bias=False)\n",
              "      (bn2): BatchNorm2d(256, eps=1e-05, momentum=0.1, affine=True, track_running_stats=True)\n",
              "      (conv3): Conv2d(256, 512, kernel_size=(1, 1), stride=(1, 1), bias=False)\n",
              "      (bn3): BatchNorm2d(512, eps=1e-05, momentum=0.1, affine=True, track_running_stats=True)\n",
              "      (relu): ReLU(inplace=True)\n",
              "    )\n",
              "    (3): Bottleneck(\n",
              "      (conv1): Conv2d(512, 256, kernel_size=(1, 1), stride=(1, 1), bias=False)\n",
              "      (bn1): BatchNorm2d(256, eps=1e-05, momentum=0.1, affine=True, track_running_stats=True)\n",
              "      (conv2): Conv2d(256, 256, kernel_size=(3, 3), stride=(1, 1), padding=(1, 1), groups=32, bias=False)\n",
              "      (bn2): BatchNorm2d(256, eps=1e-05, momentum=0.1, affine=True, track_running_stats=True)\n",
              "      (conv3): Conv2d(256, 512, kernel_size=(1, 1), stride=(1, 1), bias=False)\n",
              "      (bn3): BatchNorm2d(512, eps=1e-05, momentum=0.1, affine=True, track_running_stats=True)\n",
              "      (relu): ReLU(inplace=True)\n",
              "    )\n",
              "  )\n",
              "  (layer3): Sequential(\n",
              "    (0): Bottleneck(\n",
              "      (conv1): Conv2d(512, 512, kernel_size=(1, 1), stride=(1, 1), bias=False)\n",
              "      (bn1): BatchNorm2d(512, eps=1e-05, momentum=0.1, affine=True, track_running_stats=True)\n",
              "      (conv2): Conv2d(512, 512, kernel_size=(3, 3), stride=(2, 2), padding=(1, 1), groups=32, bias=False)\n",
              "      (bn2): BatchNorm2d(512, eps=1e-05, momentum=0.1, affine=True, track_running_stats=True)\n",
              "      (conv3): Conv2d(512, 1024, kernel_size=(1, 1), stride=(1, 1), bias=False)\n",
              "      (bn3): BatchNorm2d(1024, eps=1e-05, momentum=0.1, affine=True, track_running_stats=True)\n",
              "      (relu): ReLU(inplace=True)\n",
              "      (downsample): Sequential(\n",
              "        (0): Conv2d(512, 1024, kernel_size=(1, 1), stride=(2, 2), bias=False)\n",
              "        (1): BatchNorm2d(1024, eps=1e-05, momentum=0.1, affine=True, track_running_stats=True)\n",
              "      )\n",
              "    )\n",
              "    (1): Bottleneck(\n",
              "      (conv1): Conv2d(1024, 512, kernel_size=(1, 1), stride=(1, 1), bias=False)\n",
              "      (bn1): BatchNorm2d(512, eps=1e-05, momentum=0.1, affine=True, track_running_stats=True)\n",
              "      (conv2): Conv2d(512, 512, kernel_size=(3, 3), stride=(1, 1), padding=(1, 1), groups=32, bias=False)\n",
              "      (bn2): BatchNorm2d(512, eps=1e-05, momentum=0.1, affine=True, track_running_stats=True)\n",
              "      (conv3): Conv2d(512, 1024, kernel_size=(1, 1), stride=(1, 1), bias=False)\n",
              "      (bn3): BatchNorm2d(1024, eps=1e-05, momentum=0.1, affine=True, track_running_stats=True)\n",
              "      (relu): ReLU(inplace=True)\n",
              "    )\n",
              "    (2): Bottleneck(\n",
              "      (conv1): Conv2d(1024, 512, kernel_size=(1, 1), stride=(1, 1), bias=False)\n",
              "      (bn1): BatchNorm2d(512, eps=1e-05, momentum=0.1, affine=True, track_running_stats=True)\n",
              "      (conv2): Conv2d(512, 512, kernel_size=(3, 3), stride=(1, 1), padding=(1, 1), groups=32, bias=False)\n",
              "      (bn2): BatchNorm2d(512, eps=1e-05, momentum=0.1, affine=True, track_running_stats=True)\n",
              "      (conv3): Conv2d(512, 1024, kernel_size=(1, 1), stride=(1, 1), bias=False)\n",
              "      (bn3): BatchNorm2d(1024, eps=1e-05, momentum=0.1, affine=True, track_running_stats=True)\n",
              "      (relu): ReLU(inplace=True)\n",
              "    )\n",
              "    (3): Bottleneck(\n",
              "      (conv1): Conv2d(1024, 512, kernel_size=(1, 1), stride=(1, 1), bias=False)\n",
              "      (bn1): BatchNorm2d(512, eps=1e-05, momentum=0.1, affine=True, track_running_stats=True)\n",
              "      (conv2): Conv2d(512, 512, kernel_size=(3, 3), stride=(1, 1), padding=(1, 1), groups=32, bias=False)\n",
              "      (bn2): BatchNorm2d(512, eps=1e-05, momentum=0.1, affine=True, track_running_stats=True)\n",
              "      (conv3): Conv2d(512, 1024, kernel_size=(1, 1), stride=(1, 1), bias=False)\n",
              "      (bn3): BatchNorm2d(1024, eps=1e-05, momentum=0.1, affine=True, track_running_stats=True)\n",
              "      (relu): ReLU(inplace=True)\n",
              "    )\n",
              "    (4): Bottleneck(\n",
              "      (conv1): Conv2d(1024, 512, kernel_size=(1, 1), stride=(1, 1), bias=False)\n",
              "      (bn1): BatchNorm2d(512, eps=1e-05, momentum=0.1, affine=True, track_running_stats=True)\n",
              "      (conv2): Conv2d(512, 512, kernel_size=(3, 3), stride=(1, 1), padding=(1, 1), groups=32, bias=False)\n",
              "      (bn2): BatchNorm2d(512, eps=1e-05, momentum=0.1, affine=True, track_running_stats=True)\n",
              "      (conv3): Conv2d(512, 1024, kernel_size=(1, 1), stride=(1, 1), bias=False)\n",
              "      (bn3): BatchNorm2d(1024, eps=1e-05, momentum=0.1, affine=True, track_running_stats=True)\n",
              "      (relu): ReLU(inplace=True)\n",
              "    )\n",
              "    (5): Bottleneck(\n",
              "      (conv1): Conv2d(1024, 512, kernel_size=(1, 1), stride=(1, 1), bias=False)\n",
              "      (bn1): BatchNorm2d(512, eps=1e-05, momentum=0.1, affine=True, track_running_stats=True)\n",
              "      (conv2): Conv2d(512, 512, kernel_size=(3, 3), stride=(1, 1), padding=(1, 1), groups=32, bias=False)\n",
              "      (bn2): BatchNorm2d(512, eps=1e-05, momentum=0.1, affine=True, track_running_stats=True)\n",
              "      (conv3): Conv2d(512, 1024, kernel_size=(1, 1), stride=(1, 1), bias=False)\n",
              "      (bn3): BatchNorm2d(1024, eps=1e-05, momentum=0.1, affine=True, track_running_stats=True)\n",
              "      (relu): ReLU(inplace=True)\n",
              "    )\n",
              "  )\n",
              "  (layer4): Sequential(\n",
              "    (0): Bottleneck(\n",
              "      (conv1): Conv2d(1024, 1024, kernel_size=(1, 1), stride=(1, 1), bias=False)\n",
              "      (bn1): BatchNorm2d(1024, eps=1e-05, momentum=0.1, affine=True, track_running_stats=True)\n",
              "      (conv2): Conv2d(1024, 1024, kernel_size=(3, 3), stride=(2, 2), padding=(1, 1), groups=32, bias=False)\n",
              "      (bn2): BatchNorm2d(1024, eps=1e-05, momentum=0.1, affine=True, track_running_stats=True)\n",
              "      (conv3): Conv2d(1024, 2048, kernel_size=(1, 1), stride=(1, 1), bias=False)\n",
              "      (bn3): BatchNorm2d(2048, eps=1e-05, momentum=0.1, affine=True, track_running_stats=True)\n",
              "      (relu): ReLU(inplace=True)\n",
              "      (downsample): Sequential(\n",
              "        (0): Conv2d(1024, 2048, kernel_size=(1, 1), stride=(2, 2), bias=False)\n",
              "        (1): BatchNorm2d(2048, eps=1e-05, momentum=0.1, affine=True, track_running_stats=True)\n",
              "      )\n",
              "    )\n",
              "    (1): Bottleneck(\n",
              "      (conv1): Conv2d(2048, 1024, kernel_size=(1, 1), stride=(1, 1), bias=False)\n",
              "      (bn1): BatchNorm2d(1024, eps=1e-05, momentum=0.1, affine=True, track_running_stats=True)\n",
              "      (conv2): Conv2d(1024, 1024, kernel_size=(3, 3), stride=(1, 1), padding=(1, 1), groups=32, bias=False)\n",
              "      (bn2): BatchNorm2d(1024, eps=1e-05, momentum=0.1, affine=True, track_running_stats=True)\n",
              "      (conv3): Conv2d(1024, 2048, kernel_size=(1, 1), stride=(1, 1), bias=False)\n",
              "      (bn3): BatchNorm2d(2048, eps=1e-05, momentum=0.1, affine=True, track_running_stats=True)\n",
              "      (relu): ReLU(inplace=True)\n",
              "    )\n",
              "    (2): Bottleneck(\n",
              "      (conv1): Conv2d(2048, 1024, kernel_size=(1, 1), stride=(1, 1), bias=False)\n",
              "      (bn1): BatchNorm2d(1024, eps=1e-05, momentum=0.1, affine=True, track_running_stats=True)\n",
              "      (conv2): Conv2d(1024, 1024, kernel_size=(3, 3), stride=(1, 1), padding=(1, 1), groups=32, bias=False)\n",
              "      (bn2): BatchNorm2d(1024, eps=1e-05, momentum=0.1, affine=True, track_running_stats=True)\n",
              "      (conv3): Conv2d(1024, 2048, kernel_size=(1, 1), stride=(1, 1), bias=False)\n",
              "      (bn3): BatchNorm2d(2048, eps=1e-05, momentum=0.1, affine=True, track_running_stats=True)\n",
              "      (relu): ReLU(inplace=True)\n",
              "    )\n",
              "  )\n",
              "  (avgpool): AdaptiveAvgPool2d(output_size=(1, 1))\n",
              "  (fc): Linear(in_features=2048, out_features=21, bias=True)\n",
              ")"
            ]
          },
          "metadata": {
            "tags": []
          },
          "execution_count": 306
        }
      ]
    },
    {
      "cell_type": "code",
      "metadata": {
        "colab": {
          "base_uri": "https://localhost:8080/"
        },
        "id": "kkhc0-jjSogF",
        "outputId": "61cba5c8-7708-482f-8580-fc20eb81c8ad"
      },
      "source": [
        "model_ft = train_model(model_ft, criterion, optimizer_ft, exp_lr_scheduler,num_epochs=25)"
      ],
      "execution_count": 307,
      "outputs": [
        {
          "output_type": "stream",
          "text": [
            "Epoch 0/24\n",
            "----------\n",
            "train Loss: 0.2527 Acc: 0.8969 F1: 0.5685\n",
            "val Loss: 0.2411 Acc: 0.8537 F1: 0.5570\n",
            "Epoch 1/24\n",
            "----------\n",
            "train Loss: 0.2287 Acc: 0.9036 F1: 0.5992\n",
            "val Loss: 0.2342 Acc: 0.8549 F1: 0.5621\n",
            "Epoch 2/24\n",
            "----------\n",
            "train Loss: 0.2212 Acc: 0.9055 F1: 0.5917\n",
            "val Loss: 0.2237 Acc: 0.8530 F1: 0.5671\n",
            "Epoch 3/24\n",
            "----------\n",
            "train Loss: 0.2163 Acc: 0.9077 F1: 0.6048\n",
            "val Loss: 0.2283 Acc: 0.8484 F1: 0.4671\n",
            "Epoch 4/24\n",
            "----------\n",
            "train Loss: 0.2139 Acc: 0.9087 F1: 0.6038\n",
            "val Loss: 0.2311 Acc: 0.8519 F1: 0.5357\n",
            "Epoch 5/24\n",
            "----------\n",
            "train Loss: 0.2108 Acc: 0.9092 F1: 0.6126\n",
            "val Loss: 0.2254 Acc: 0.8544 F1: 0.5442\n",
            "Epoch 6/24\n",
            "----------\n",
            "train Loss: 0.2087 Acc: 0.9084 F1: 0.5996\n",
            "val Loss: 0.2212 Acc: 0.8503 F1: 0.5237\n",
            "Epoch 7/24\n",
            "----------\n",
            "train Loss: 0.1979 Acc: 0.9119 F1: 0.6202\n",
            "val Loss: 0.2217 Acc: 0.8498 F1: 0.5652\n",
            "Epoch 8/24\n",
            "----------\n",
            "train Loss: 0.1966 Acc: 0.9122 F1: 0.6246\n",
            "val Loss: 0.2157 Acc: 0.8507 F1: 0.5656\n",
            "Epoch 9/24\n",
            "----------\n",
            "train Loss: 0.1963 Acc: 0.9118 F1: 0.6263\n",
            "val Loss: 0.2174 Acc: 0.8555 F1: 0.5731\n",
            "Epoch 10/24\n",
            "----------\n",
            "train Loss: 0.1952 Acc: 0.9120 F1: 0.6236\n",
            "val Loss: 0.2194 Acc: 0.8526 F1: 0.5685\n",
            "Epoch 11/24\n",
            "----------\n",
            "train Loss: 0.1955 Acc: 0.9119 F1: 0.6205\n",
            "val Loss: 0.2141 Acc: 0.8539 F1: 0.5640\n",
            "Epoch 12/24\n",
            "----------\n",
            "train Loss: 0.1943 Acc: 0.9114 F1: 0.6217\n",
            "val Loss: 0.2195 Acc: 0.8544 F1: 0.5674\n",
            "Epoch 13/24\n",
            "----------\n",
            "train Loss: 0.1946 Acc: 0.9130 F1: 0.6320\n",
            "val Loss: 0.2183 Acc: 0.8542 F1: 0.5680\n",
            "Epoch 14/24\n",
            "----------\n",
            "train Loss: 0.1930 Acc: 0.9122 F1: 0.6167\n",
            "val Loss: 0.2197 Acc: 0.8544 F1: 0.5714\n",
            "Epoch 15/24\n",
            "----------\n",
            "train Loss: 0.1924 Acc: 0.9128 F1: 0.6304\n",
            "val Loss: 0.2128 Acc: 0.8533 F1: 0.5703\n",
            "Epoch 16/24\n",
            "----------\n",
            "train Loss: 0.1933 Acc: 0.9138 F1: 0.6331\n",
            "val Loss: 0.2138 Acc: 0.8539 F1: 0.5751\n",
            "Epoch 17/24\n",
            "----------\n",
            "train Loss: 0.1936 Acc: 0.9133 F1: 0.6315\n",
            "val Loss: 0.2160 Acc: 0.8530 F1: 0.5861\n",
            "Epoch 18/24\n",
            "----------\n",
            "train Loss: 0.1925 Acc: 0.9128 F1: 0.6299\n",
            "val Loss: 0.2108 Acc: 0.8523 F1: 0.5816\n",
            "Epoch 19/24\n",
            "----------\n",
            "train Loss: 0.1929 Acc: 0.9130 F1: 0.6302\n",
            "val Loss: 0.2141 Acc: 0.8562 F1: 0.5677\n",
            "Epoch 20/24\n",
            "----------\n",
            "train Loss: 0.1935 Acc: 0.9137 F1: 0.6310\n",
            "val Loss: 0.2128 Acc: 0.8560 F1: 0.5829\n",
            "Epoch 21/24\n",
            "----------\n",
            "train Loss: 0.1933 Acc: 0.9127 F1: 0.6277\n",
            "val Loss: 0.2214 Acc: 0.8569 F1: 0.5822\n",
            "Epoch 22/24\n",
            "----------\n",
            "train Loss: 0.1935 Acc: 0.9132 F1: 0.6313\n",
            "val Loss: 0.2162 Acc: 0.8528 F1: 0.5730\n",
            "Epoch 23/24\n",
            "----------\n",
            "train Loss: 0.1928 Acc: 0.9131 F1: 0.6313\n",
            "val Loss: 0.2170 Acc: 0.8558 F1: 0.5623\n",
            "Epoch 24/24\n",
            "----------\n",
            "train Loss: 0.1922 Acc: 0.9136 F1: 0.6379\n",
            "val Loss: 0.2137 Acc: 0.8535 F1: 0.5947\n",
            "Training complete in 20m 57s\n",
            "Best val F1: 0.5947\n"
          ],
          "name": "stdout"
        }
      ]
    },
    {
      "cell_type": "markdown",
      "metadata": {
        "id": "pYlo8Vxrfuuy"
      },
      "source": [
        "## Check Test Data"
      ]
    },
    {
      "cell_type": "code",
      "metadata": {
        "id": "gncLECmYU-Hu"
      },
      "source": [
        "dummies_list=list(attributes.iloc[:,1:].columns)"
      ],
      "execution_count": 308,
      "outputs": []
    },
    {
      "cell_type": "code",
      "metadata": {
        "id": "PbvAcc7ySZWY"
      },
      "source": [
        "def visualize_model(model,num_images=6):\n",
        "    was_training = model.training\n",
        "    model.eval()\n",
        "    images_so_far = 0\n",
        "    fig = plt.figure()\n",
        "    dataloader = test_dataloader\n",
        "    with torch.no_grad():\n",
        "        for i, (inputs, labels) in enumerate(dataloader):\n",
        "            inputs = inputs.to(device)\n",
        "            labels = labels.to(device)\n",
        "            outputs = model(inputs)\n",
        "            outputs = torch.sigmoid(outputs)\n",
        "            outputs = outputs.cpu().detach().numpy()\n",
        "            outputs = np.array(outputs > 0.5, dtype = float)\n",
        "            preds = outputs\n",
        "\n",
        "            for j in range(inputs.size()[0]):\n",
        "                #title_of_graph = convert_preds(preds[j])\n",
        "                predictions = preds[j].tolist()\n",
        "                labels_listone=sum(labels.tolist(), [])\n",
        "                indices = [i for i, x in enumerate(predictions) if x == 1]\n",
        "                indices_labels = [i for i, x in enumerate(labels_listone) if x == 1]\n",
        "                res_list = [dummies_list[i] for i in indices]\n",
        "                labels_list = [dummies_list[i] for i in indices_labels]\n",
        "                print(\"Ground Truth => \" )\n",
        "                print(labels_list)\n",
        "                print(\"Model Output => \")\n",
        "                print(res_list)\n",
        "                images_so_far += 1\n",
        "                ax = plt.subplot(num_images//2, 2, images_so_far)\n",
        "                ax.axis('off')\n",
        "                #ax.set_title('predicted: {}'.format(class_names[preds[j]]))\n",
        "                imshow(inputs.cpu().data[j])\n",
        "\n",
        "                if images_so_far == num_images:\n",
        "                    model.train(mode=was_training)\n",
        "                    return\n",
        "        model.train(mode=was_training)\n",
        "\n",
        "\n",
        "def imshow(inp, title=None):\n",
        "    \"\"\"Imshow for Tensor.\"\"\"\n",
        "    inp = inp.numpy().transpose((1, 2, 0))\n",
        "    mean = np.array([0.485, 0.456, 0.406])\n",
        "    std = np.array([0.229, 0.224, 0.225])\n",
        "    inp = std * inp + mean\n",
        "    inp = np.clip(inp, 0, 1)\n",
        "    plt.imshow(inp)\n",
        "    if title is not None:\n",
        "        plt.title(title)\n",
        "    plt.pause(0.001)  # pause a bit so that plots are updated"
      ],
      "execution_count": 314,
      "outputs": []
    },
    {
      "cell_type": "code",
      "metadata": {
        "colab": {
          "base_uri": "https://localhost:8080/",
          "height": 911
        },
        "id": "msJ2Ud1zTA5X",
        "outputId": "a97330a7-3373-4545-d308-3b7d1320b025"
      },
      "source": [
        "visualize_model(model_ft)"
      ],
      "execution_count": 315,
      "outputs": [
        {
          "output_type": "stream",
          "text": [
            "Ground Truth => \n",
            "['neck_6.0', 'pattern_9.0', 'sleeve_length_3.0']\n",
            "Model Output => \n",
            "['pattern_9.0', 'sleeve_length_3.0']\n"
          ],
          "name": "stdout"
        },
        {
          "output_type": "display_data",
          "data": {
            "image/png": "[encoded data removed]",
            "text/plain": [
              "<Figure size 432x288 with 1 Axes>"
            ]
          },
          "metadata": {
            "tags": [],
            "needs_background": "light"
          }
        },
        {
          "output_type": "stream",
          "text": [
            "Ground Truth => \n",
            "['neck_4.0', 'pattern_9.0', 'sleeve_length_3.0']\n",
            "Model Output => \n",
            "['neck_6.0', 'sleeve_length_3.0']\n"
          ],
          "name": "stdout"
        },
        {
          "output_type": "display_data",
          "data": {
            "image/png": "[encoded data removed]",
            "text/plain": [
              "<Figure size 432x288 with 1 Axes>"
            ]
          },
          "metadata": {
            "tags": [],
            "needs_background": "light"
          }
        },
        {
          "output_type": "stream",
          "text": [
            "Ground Truth => \n",
            "['neck_2.0', 'pattern_9.0', 'sleeve_length_3.0']\n",
            "Model Output => \n",
            "['pattern_9.0', 'sleeve_length_3.0']\n"
          ],
          "name": "stdout"
        },
        {
          "output_type": "display_data",
          "data": {
            "image/png": "[encoded data removed]",
            "text/plain": [
              "<Figure size 432x288 with 1 Axes>"
            ]
          },
          "metadata": {
            "tags": [],
            "needs_background": "light"
          }
        },
        {
          "output_type": "stream",
          "text": [
            "Ground Truth => \n",
            "['neck_2.0', 'pattern_9.0', 'sleeve_length_3.0']\n",
            "Model Output => \n",
            "['pattern_9.0', 'sleeve_length_3.0']\n"
          ],
          "name": "stdout"
        },
        {
          "output_type": "display_data",
          "data": {
            "image/png": "[encoded data removed]",
            "text/plain": [
              "<Figure size 432x288 with 1 Axes>"
            ]
          },
          "metadata": {
            "tags": [],
            "needs_background": "light"
          }
        },
        {
          "output_type": "stream",
          "text": [
            "Ground Truth => \n",
            "['neck_4.0', 'pattern_9.0', 'sleeve_length_3.0']\n",
            "Model Output => \n",
            "['pattern_9.0', 'sleeve_length_3.0']\n"
          ],
          "name": "stdout"
        },
        {
          "output_type": "display_data",
          "data": {
            "image/png": "[encoded data removed]",
            "text/plain": [
              "<Figure size 432x288 with 1 Axes>"
            ]
          },
          "metadata": {
            "tags": [],
            "needs_background": "light"
          }
        },
        {
          "output_type": "stream",
          "text": [
            "Ground Truth => \n",
            "['neck_0.0', 'sleeve_length_3.0']\n",
            "Model Output => \n",
            "['pattern_9.0', 'sleeve_length_3.0']\n"
          ],
          "name": "stdout"
        },
        {
          "output_type": "display_data",
          "data": {
            "image/png": "[encoded data removed]",
            "text/plain": [
              "<Figure size 432x288 with 1 Axes>"
            ]
          },
          "metadata": {
            "tags": [],
            "needs_background": "light"
          }
        }
      ]
    },
    {
      "cell_type": "code",
      "metadata": {
        "id": "Qppq8ZdcageS"
      },
      "source": [
        ""
      ],
      "execution_count": 310,
      "outputs": []
    },
    {
      "cell_type": "markdown",
      "metadata": {
        "id": "i0k3xubxf1J9"
      },
      "source": [
        "## Work Left"
      ]
    },
    {
      "cell_type": "markdown",
      "metadata": {
        "id": "GYsBnqMTf1J9"
      },
      "source": [
        "The following tasks couldn't be finished, but I am sure it would have been done, provided sufficient time.\n",
        "\n",
        "1.   The inference script couldn't be developed. Instead, some predictions were shown on the test dataset in this notebook itself. \n",
        "2.   A single parameter-dictionary could have been added in order to make the worklfow more automated.\n",
        "3.   Experiment logging was not done, adding them could have helped analyze more hyperparamters and infer from more stats such as confusion matrix.\n",
        "4.   \"N/A\" was treated here as \"-1\", basically treating it as a separate class. Imputing them with mean or dropping the columns would have added additional bias. Also while predicting the same on the test data, a function could have been added which would make sure that if a predicted \"1\" is not found in the predicted list, it would infer it as \"N/A\".\n",
        "5.    Fine-Tuning the models were also tried by un-freezing the layers, but since the training took more time so it wasn't completed. However, functionality is added.\n",
        "6.    I wanted to implement a different type of architecture, which can be seen in the JPEG file below. However, I was not able to implement it. It bascially would have been 3 Models within a single one. (Just like Flixstock treats individual tasks using individual models, fully connected in a single NN).\n",
        "7.     Training could have been faster using autoencoded/compressed images, will probably try that later.\n",
        "\n"
      ]
    },
    {
      "cell_type": "code",
      "metadata": {
        "id": "pGg-_neniwYP"
      },
      "source": [
        ""
      ],
      "execution_count": null,
      "outputs": []
    }
  ]
}